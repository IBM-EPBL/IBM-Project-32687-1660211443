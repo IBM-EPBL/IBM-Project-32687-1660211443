{
  "nbformat": 4,
  "nbformat_minor": 0,
  "metadata": {
    "colab": {
      "provenance": [],
      "collapsed_sections": []
    },
    "kernelspec": {
      "name": "python3",
      "display_name": "Python 3"
    },
    "language_info": {
      "name": "python"
    }
  },
  "cells": [
    {
      "cell_type": "code",
      "execution_count": null,
      "metadata": {
        "id": "ss48R9RWhWsK"
      },
      "outputs": [],
      "source": [
        "\n",
        "Basic Python\n",
        "1. Split this string\n",
        "s = \"Hi there Sam!\"\n",
        "s= \"Hi there Sam!\"\n",
        "x=s.split()\n",
        "print(x)\n",
        "2. Use .format() to print the following string.\n",
        "Output should be: The diameter of Earth is 12742 kilometers.\n",
        "planet = \"Earth\"\n",
        "diameter = 12742\n",
        "txt=\"Thew diameter of {planet} is {diameter} kilometers\".format(planet=\"Earth\",diameter=12742)\n",
        "print(txt)\n",
        "\n",
        "\n",
        "3. In this nest dictionary grab the word \"hello\"\n",
        "d = {'k1':[1,2,3,{'tricky':['oh','man','inception',{'target':[1,2,3,'hello']}]}]}\n",
        "print(d['k1'][3][\"tricky\"][3]['target'][3])\n",
        "Numpy\n",
        "import numpy as np\n",
        "4.1 Create an array of 10 zeros?\n",
        "4.2 Create an array of 10 fives?\n",
        "import numpy as np\n",
        "array=np.zeros(10)\n",
        "print(\"an array of 10 zeros:\")\n",
        "print(array)\n",
        "import numpy as np \n",
        "array=np.ones(10)*5\n",
        "print(\"an array of 10 fives\")\n",
        "print array\n",
        "5. Create an array of all the even integers from 20 to 35\n",
        "import numpy as np\n",
        "array=np.arrange(20,35,2)\n",
        "print(\"array of all even integers from 20 to35\")\n",
        "print(array)\n",
        "6. Create a 3x3 matrix with values ranging from 0 to 8\n",
        "import numpy as np\n",
        "x=np.arrange(0,9).reshape(3,3)\n",
        "print(x)\n",
        "7. Concatenate a and b\n",
        "a = np.array([1, 2, 3]), b = np.array([4, 5, 6])\n",
        "import numpy as np\n",
        "a = np.array([1,2,3])\n",
        "b = np.array([4,5,6])\n",
        "gfg = np.concatenate((a,b),axis =0)\n",
        "print (gfg)\n",
        "Pandas\n",
        "8. Create a dataframe with 3 rows and 2 columns\n",
        "import pandas as pd\n",
        "import pandas as pd\n",
        " x=[{'a':1,'b':2},{'a':10,'b':20},{'a':15,'b':30}]\n",
        " df=pd.DataFrame(x)\n",
        " print (x)\n",
        "9. Generate the series of dates from 1st Jan, 2023 to 10th Feb, 2023\n",
        "import datetime\n",
        "import pandas as pd\n",
        "test_date = datetime.datetime.strptime(\"01-01-2023\",\"%d-%m-%Y\")\n",
        "K = 41\n",
        "date_generated =pd.date_range(test_date,periods=K)\n",
        "print(date_generated.strftime(\"%d-%m-%Y\"))\n",
        "10. Create 2D list to DataFrame\n",
        "lists = [[1, 'aaa', 22], [2, 'bbb', 25], [3, 'ccc', 24]]\n",
        "\n",
        "lists = [[1, 'aaa', 22], [2, 'bbb', 25], [3, 'ccc', 24]]\n",
        "import pandas as pd\n",
        "lists =[[1,'aaa',22],[2,'bbb',25],[3,'ccc',24]]\n",
        "df=pd.DataFrame(lists,columns =['Name','Age'])\n",
        "print(df)"
      ]
    }
  ]
}